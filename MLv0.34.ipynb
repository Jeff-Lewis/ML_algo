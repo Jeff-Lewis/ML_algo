{
 "cells": [
  {
   "cell_type": "code",
   "execution_count": null,
   "metadata": {
    "collapsed": false
   },
   "outputs": [],
   "source": [
    "import pandas as pd\n",
    "import numpy as np\n",
    "from pandas_datareader import data, wb\n",
    "import datetime as dt\n",
    "import time\n",
    "from sklearn.preprocessing import StandardScaler\n",
    "from sklearn.model_selection import train_test_split\n",
    "from sklearn.model_selection import cross_val_score\n",
    "from sklearn.neural_network import MLPClassifier\n",
    "from sklearn.model_selection import GridSearchCV\n",
    "from sklearn.pipeline import Pipeline\n",
    "import matplotlib.pylab as plt\n",
    "import warnings\n",
    "warnings.filterwarnings(\"ignore\")"
   ]
  },
  {
   "cell_type": "code",
   "execution_count": null,
   "metadata": {
    "collapsed": true
   },
   "outputs": [],
   "source": [
    "def get_prices(tickers_list, start, end, what_price):\n",
    "    \n",
    "    df = pd.DataFrame()\n",
    "    for ticker in tickers_list:\n",
    "        tmp = data.DataReader(ticker, 'yahoo', start, end)\n",
    "        df[ticker] = tmp[what_price]\n",
    "    return df "
   ]
  },
  {
   "cell_type": "code",
   "execution_count": null,
   "metadata": {
    "collapsed": true
   },
   "outputs": [],
   "source": [
    "tickers = ['SPY', 'IWM','TLT','EEM', 'IYR','LQD','TIP','GLD','OIH','FXE'] # 'JNK',, 'GSG'\n",
    "st = dt.datetime(2011, 1, 1)\n",
    "ed = dt.datetime(2016, 1, 1)"
   ]
  },
  {
   "cell_type": "code",
   "execution_count": null,
   "metadata": {
    "collapsed": false
   },
   "outputs": [],
   "source": [
    "prices = get_prices(tickers, st, ed, 'Adj Close')\n",
    "# Is pct_change good enough? Maybe make it ln(x2/x1)?\n",
    "returns = prices.pct_change(1).dropna()\n",
    "returns.cumsum().plot(figsize=(20,10))\n",
    "plt.legend(loc=3)\n",
    "plt.show()"
   ]
  },
  {
   "cell_type": "code",
   "execution_count": null,
   "metadata": {
    "collapsed": true
   },
   "outputs": [],
   "source": [
    "horizon = [1, 2, 3, 5, 10, 20] #, 40, 60, 120, 250]\n",
    "#Scores = pd.DataFrame(index=tickers, columns =[str(x)+' days' for x in horizon])\n",
    "Scores_base  = pd.DataFrame(index=tickers, columns =[str(x)+' days' for x in horizon])\n",
    "Scores_train = pd.DataFrame(index=tickers, columns =[str(x)+' days' for x in horizon])\n",
    "Scores_test  = pd.DataFrame(index=tickers, columns =[str(x)+' days' for x in horizon])"
   ]
  },
  {
   "cell_type": "code",
   "execution_count": null,
   "metadata": {
    "collapsed": true
   },
   "outputs": [],
   "source": [
    "### Object to do everything fast and simple\n",
    "\n",
    "class x_y_creator(object):\n",
    "    \n",
    "    def __init__(self, n_fwd, tick, lags, day_of_week, month, first_friday):\n",
    "        self.lags = lags\n",
    "        self.dfw = day_of_week\n",
    "        self.m = month\n",
    "        self.ff = first_friday\n",
    "        self.tick = tick\n",
    "        self.n_fwd = n_fwd\n",
    "        \n",
    "    def data_feed(self, data):\n",
    "        self.data = data\n",
    "        return self\n",
    "    \n",
    "    def get_x(self):\n",
    "        self.x = self.data.pct_change(self.n_fwd).dropna()\n",
    "        self.x_base = self.x\n",
    "        return self\n",
    "    \n",
    "    def get_lags(self):\n",
    "        if self.lags != 0 and self.lags != None and self.lags > 0: \n",
    "            lagged_x = []\n",
    "            for i in range(1,self.lags+1):\n",
    "                name = 'Lag'+str(i)+'_'\n",
    "                xl = self.x.shift(i)\n",
    "                xl = xl.add_prefix(name)\n",
    "                lagged_x.append(xl)\n",
    "            \n",
    "            xal = pd.concat(lagged_x, axis=1)\n",
    "            self.x = self.x.join(xal).dropna().iloc[:-self.n_fwd]\n",
    "            return self\n",
    "        else:\n",
    "            return self\n",
    "        \n",
    "    def get_dummies(self):\n",
    "        if self.dfw == True:\n",
    "            self.x['WeekDay'] = self.x.index.weekday_name\n",
    "            self.x = pd.get_dummies(self.x)\n",
    "            \n",
    "        if self.m == True:\n",
    "            self.x['Month'] = self.x.index.strftime('%b')\n",
    "            self.x = pd.get_dummies(self.x)\n",
    "            \n",
    "        if self.ff == True:\n",
    "            self.x['First_Friday'] = pd.Series(self.x.index, index=self.x.index).apply(is_first_friday)\n",
    "        \n",
    "        return self\n",
    "    \n",
    "    def is_first_friday(date):\n",
    "        if date.weekday() == 4 and date.day <= 7:\n",
    "            return 1\n",
    "        else:\n",
    "            return 0\n",
    "    \n",
    "    def get_y(self):\n",
    "        y = self.x_base[self.tick].shift(-self.n_fwd).iloc[self.lags:-self.n_fwd]\n",
    "        self.y = np.where(y>=0, 1, 0)\n",
    "        return self\n",
    "    \n",
    "    def get_both(self):\n",
    "        self.get_x()\n",
    "        self.get_y()\n",
    "        self.get_lags()\n",
    "        self.get_dummies()\n",
    "        x = self.x\n",
    "        y = self.y\n",
    "        return x, y"
   ]
  },
  {
   "cell_type": "code",
   "execution_count": null,
   "metadata": {
    "collapsed": false,
    "scrolled": true
   },
   "outputs": [],
   "source": [
    "in_ = True\n",
    "day_of_the_week = False\n",
    "first_friday = False\n",
    "month = False\n",
    "lags = 3\n",
    "for tick in tickers:\n",
    "    \n",
    "    for n_fwd in horizon:\n",
    "\n",
    "            creator = x_y_creator(n_fwd, tick, lags, day_of_the_week, month, first_friday)\n",
    "            creator.data_feed(prices)\n",
    "            x, y = creator.get_both()\n",
    "            \n",
    "            X_train, X_test, y_train, y_test = train_test_split(x, y, \n",
    "                    train_size = 0.7, random_state = 0)\n",
    "\n",
    "            ##### added pipeline #### \n",
    "            mlp = MLPClassifier()\n",
    "            \n",
    "            pipe_mlp = Pipeline([('scl', StandardScaler()),\n",
    "                         ('clf', mlp)])\n",
    "\n",
    "            param_range = [0.0001, 0.001, 0.01, 0.1, 1.0, 10.0, 100.0, 1000.0]\n",
    "            #param_range = [0.01, 10.0]\n",
    "\n",
    "            param_grid = [{'clf__alpha'     : param_range, # regularization strength on L2\n",
    "                           'clf__activation': ['relu','logistic', 'tanh'],\n",
    "                           'clf__solver'    : ['sgd'],\n",
    "                           'clf__hidden_layer_sizes' : [(10,10), (10,10,10)]}] # 'lbfgs','adam'\n",
    "\n",
    "            gs = GridSearchCV(estimator = pipe_mlp,\n",
    "                              param_grid = param_grid,\n",
    "                              scoring='accuracy',\n",
    "                              cv = 3,\n",
    "                              n_jobs = -1)\n",
    "\n",
    "            gs = gs.fit(X_train, y_train)\n",
    "\n",
    "            best_mlp = gs.best_estimator_\n",
    "            best_mlp.fit(X_train, y_train)\n",
    "\n",
    "            train_score = best_mlp.score(X_train, y_train)\n",
    "            test_score  = best_mlp.score(X_test, y_test)\n",
    "\n",
    "        #        train_score = f1_score(y_train, best_mlp.predict(X_train) ) \n",
    "        #        test_score  = f1_score(y_test , best_mlp.predict(X_test)  )\n",
    "\n",
    "            #Scores[str(n_fwd)+' days'][tick] = [train_score, test_score]\n",
    "            Scores_base[str(n_fwd)+' days'][tick]  = y.sum()/len(y)\n",
    "            Scores_train[str(n_fwd)+' days'][tick] = train_score\n",
    "            Scores_test[str(n_fwd)+' days'][tick]  = test_score\n",
    "            \n",
    "            if in_:\n",
    "                print('Ticker, Base%, TrainScore, TestScore, next_days_forward ')\n",
    "                print(tick,',%.3f, %.3f, %.3f, %.f' % (y_test.sum()/len(y_test), train_score, test_score, n_fwd)) \n",
    "                in_ = False\n",
    "            else:\n",
    "                print(tick,',%.3f, %.3f, %.3f, %.f' % (y_test.sum()/len(y_test), train_score, test_score, n_fwd))"
   ]
  }
 ],
 "metadata": {
  "anaconda-cloud": {},
  "kernelspec": {
   "display_name": "Python [default]",
   "language": "python",
   "name": "python3"
  },
  "language_info": {
   "codemirror_mode": {
    "name": "ipython",
    "version": 3
   },
   "file_extension": ".py",
   "mimetype": "text/x-python",
   "name": "python",
   "nbconvert_exporter": "python",
   "pygments_lexer": "ipython3",
   "version": "3.5.2"
  }
 },
 "nbformat": 4,
 "nbformat_minor": 1
}
